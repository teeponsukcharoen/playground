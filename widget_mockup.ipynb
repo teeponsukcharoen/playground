{
 "cells": [
  {
   "cell_type": "code",
   "execution_count": 64,
   "metadata": {},
   "outputs": [
    {
     "name": "stdout",
     "output_type": "stream",
     "text": [
      "Requirement already satisfied: ipywidgets in /Users/tee/anaconda/lib/python3.6/site-packages\n",
      "\u001b[33mYou are using pip version 9.0.1, however version 21.1.2 is available.\n",
      "You should consider upgrading via the 'pip install --upgrade pip' command.\u001b[0m\n",
      "Enabling notebook extension jupyter-js-widgets/extension...\n",
      "      - Validating: \u001b[32mOK\u001b[0m\n"
     ]
    }
   ],
   "source": [
    "!pip install ipywidgets\n",
    "!jupyter nbextension enable --py widgetsnbextension"
   ]
  },
  {
   "cell_type": "code",
   "execution_count": 65,
   "metadata": {
    "collapsed": true
   },
   "outputs": [],
   "source": [
    "import matplotlib.pyplot as plt"
   ]
  },
  {
   "cell_type": "code",
   "execution_count": 66,
   "metadata": {
    "collapsed": true
   },
   "outputs": [],
   "source": [
    "# some handy functions to use along widgets\n",
    "from IPython.display import display, Markdown, clear_output\n",
    "# widget packages\n",
    "import ipywidgets as widgets\n",
    "# defining some widgets\n",
    "text = widgets.Text(\n",
    "       value='My Text',\n",
    "       description='Title', )\n",
    "calendar = widgets.DatePicker(\n",
    "           description='Select Date')\n",
    "slider = widgets.FloatSlider(\n",
    "         value=1,\n",
    "         min=0,\n",
    "         max=10.0,\n",
    "         step=0.1,)\n",
    "menu = widgets.Dropdown(\n",
    "       options=['red', 'blue', 'green'],\n",
    "       value='red',\n",
    "       description='Color:')\n",
    "checkbox = widgets.Checkbox(\n",
    "           description='Check to invert',)"
   ]
  },
  {
   "cell_type": "code",
   "execution_count": 67,
   "metadata": {
    "collapsed": true
   },
   "outputs": [],
   "source": [
    "description0 = widgets.HTML(\n",
    "    value=\"<b>Risk Profile Questionnaire</b>\",\n",
    "    placeholder='',\n",
    "    description='',\n",
    ")"
   ]
  },
  {
   "cell_type": "code",
   "execution_count": 68,
   "metadata": {},
   "outputs": [],
   "source": [
    "description1 = widgets.HTML(\n",
    "    value=\"[Knowledge] When it comes to investing in stocks and funds, I’d describe myself as...\",\n",
    "    placeholder='',\n",
    "    description='',\n",
    ")"
   ]
  },
  {
   "cell_type": "code",
   "execution_count": 69,
   "metadata": {},
   "outputs": [],
   "source": [
    "menu1 = widgets.Dropdown(\n",
    "       options=[\n",
    "           ('Very new. I don’t know anything yet, but I’m ready to learn!', 'A'), \n",
    "           ('Familiar with the basics. I have some knowledge, but I’m still new.', 'B'), \n",
    "           ('Knowledgeable. I have a pretty solid understanding of it.', 'C'),\n",
    "           ('Basically an expert. I really know what I’m doing.','D')],\n",
    "       value='A',\n",
    "       description='Ans:',\n",
    "layout={'width': 'max-content'})"
   ]
  },
  {
   "cell_type": "code",
   "execution_count": 70,
   "metadata": {
    "collapsed": true
   },
   "outputs": [],
   "source": [
    "description2 = widgets.HTML(\n",
    "    value=\"[Risk tolerance] When you’re investing, what’s a bigger priority for you?\",\n",
    "    placeholder='',\n",
    "    description='',\n",
    ")"
   ]
  },
  {
   "cell_type": "code",
   "execution_count": 71,
   "metadata": {
    "collapsed": true
   },
   "outputs": [],
   "source": [
    "menu2 = widgets.Dropdown(\n",
    "       options=[\n",
    "           ('Minimizing losses. I care about preserving my money, even if it means lower returns', 'A'), \n",
    "           ('Maximizing gains. I care about increasing returns, even if it means higher risk', 'B'), \n",
    "           ('I care equally about making money and preventing losses. I want to make money, but I also don’t want to lose a lot of money in the process.', 'C'),\n",
    "           ],\n",
    "       value='A',\n",
    "       description='Ans:',\n",
    "layout={'width': 'max-content'})"
   ]
  },
  {
   "cell_type": "code",
   "execution_count": 72,
   "metadata": {},
   "outputs": [],
   "source": [
    "description2_5 = widgets.HTML(\n",
    "    value=\"\"\"[Interstitial] The next few questions will ask you about the money you might invest on our platform today. Even if you're not sure that you'll invest today,\n",
    "    having a rough amount in mind will make it easier to answer these questions.\"\"\",\n",
    "    placeholder='',\n",
    "    description='',\n",
    ")"
   ]
  },
  {
   "cell_type": "code",
   "execution_count": 73,
   "metadata": {
    "collapsed": true
   },
   "outputs": [],
   "source": [
    "description3 = widgets.HTML(\n",
    "    value=\"\"\"[Capital] How comfortable would you be if you lost this money? Don’t worry - this isn’t a prediction. We just want to know how this money fits into the bigger picture of your finances.\"\"\",\n",
    "    placeholder='',\n",
    "    description='',\n",
    ")"
   ]
  },
  {
   "cell_type": "code",
   "execution_count": 74,
   "metadata": {
    "collapsed": true
   },
   "outputs": [],
   "source": [
    "menu3 = widgets.Dropdown(\n",
    "       options=[\n",
    "           ('I can’t lose this money. It’s a lifeline for me.', 'A'), \n",
    "           ('I would be impacted, but okay in the end. Losing this money isn’t ideal, but I’d be okay.', 'B'), \n",
    "           ('I’m comfortable with losing this money. This is my play money', 'C'),\n",
    "           ],\n",
    "       value='A',\n",
    "       description='Ans:',\n",
    "layout={'width': 'max-content'})"
   ]
  },
  {
   "cell_type": "code",
   "execution_count": 75,
   "metadata": {
    "collapsed": true
   },
   "outputs": [],
   "source": [
    "description4 = widgets.HTML(\n",
    "    value=\"\"\"[Time horizon] How long do you plan to invest this money? It’s okay if you’re not sure—an estimate is fine!\"\"\",\n",
    "    placeholder='',\n",
    "    description='',\n",
    ")"
   ]
  },
  {
   "cell_type": "code",
   "execution_count": 76,
   "metadata": {
    "collapsed": true
   },
   "outputs": [],
   "source": [
    "menu4 = widgets.Dropdown(\n",
    "       options=[\n",
    "           ('Less than 1 year', 'A'), \n",
    "           ('1-2 years', 'B'), \n",
    "           ('3-5 years', 'C'),\n",
    "           ('6-10 years', 'D'),\n",
    "           ('10 years or longer', 'E'),\n",
    "           ],\n",
    "       value='A',\n",
    "       description='Ans:',\n",
    "layout={'width': 'max-content'})"
   ]
  },
  {
   "cell_type": "code",
   "execution_count": 77,
   "metadata": {
    "collapsed": true
   },
   "outputs": [],
   "source": [
    "description5 = widgets.HTML(\n",
    "    value=\"\"\"[Financial well-being] What’s the likelihood that you’ll need to withdraw this money early to cover expenses?\"\"\",\n",
    "    placeholder='',\n",
    "    description='',\n",
    ")"
   ]
  },
  {
   "cell_type": "code",
   "execution_count": 78,
   "metadata": {
    "collapsed": true
   },
   "outputs": [],
   "source": [
    "menu5 = widgets.Dropdown(\n",
    "       options=[\n",
    "           ('I’ll definitely need to withdraw this money. I’m planning to use it to cover expenses soon.', 'A'), \n",
    "           ('Not sure, but it’s pretty likely. There’s a good chance I’ll need to withdraw it', 'B'), \n",
    "           ('Not sure, but it’s unlikely. I might need to, but it’s a really small chance', 'C'),\n",
    "           ('I won’t need to withdraw this money. I have other savings I can draw from for expenses', 'D'),\n",
    "           ],\n",
    "       value='A',\n",
    "       description='Ans:',\n",
    "layout={'width': 'max-content'})"
   ]
  },
  {
   "cell_type": "code",
   "execution_count": 79,
   "metadata": {},
   "outputs": [],
   "source": [
    "# box = widgets.VBox([description0, description1, menu1,description2, menu2, description2_5, description3, menu3,\n",
    "#                    description4, menu4,description5, menu5,])\n",
    "# box"
   ]
  },
  {
   "cell_type": "code",
   "execution_count": 80,
   "metadata": {
    "collapsed": true
   },
   "outputs": [],
   "source": [
    "s1_dict = {'A':0, 'B':1, 'C':2, 'D':3}\n",
    "s2_dict = {'A':0, 'B':2, 'C':1}\n",
    "s3_dict = {'A':0, 'B':1, 'C':2}\n",
    "s4_dict = {'A':0, 'B':1, 'C':2, 'D':3, 'E':4}\n",
    "s5_dict = {'A':0, 'B':1, 'C':2, 'D':3}"
   ]
  },
  {
   "cell_type": "code",
   "execution_count": 81,
   "metadata": {},
   "outputs": [
    {
     "data": {
      "application/vnd.jupyter.widget-view+json": {
       "model_id": "37f3ff4841cc4e3887d00dc51f8b4889"
      }
     },
     "metadata": {},
     "output_type": "display_data"
    }
   ],
   "source": [
    "button = widgets.Button(description='Get Evaluation')\n",
    "out = widgets.Output()\n",
    "def on_button_clicked(_):\n",
    "    # \"linking function with output\"\n",
    "    with out:\n",
    "        # what happens when we press the button\n",
    "        clear_output()\n",
    "        \n",
    "        c1 = s1_dict[menu1.value]/(4-1)\n",
    "        c2 = s2_dict[menu2.value]/(3-1)\n",
    "        c3 = s3_dict[menu3.value]/(3-1)\n",
    "        c4 = s4_dict[menu4.value]/(5-1)\n",
    "        c5 = s5_dict[menu5.value]/(4-1)\n",
    "        score = (c1+c2+c3+c4+c5)/5\n",
    "\n",
    "        if score <= 0.20: # volatilty target = 7\n",
    "            cat = 'Low risk' \n",
    "            sizes = [71, 8, 18, 3] \n",
    "        elif score <= 0.40: # volatilty target = 9\n",
    "            cat = 'Moderately low risk'\n",
    "            sizes = [58, 12, 25, 5]\n",
    "        elif score <= 0.60: # volatilty target = 11\n",
    "            cat = 'Moderate risk'\n",
    "            sizes = [46,16, 31, 7]\n",
    "        elif score <= 0.80: # volatilty target = 13\n",
    "            cat = 'Moderately high risk'\n",
    "            sizes = [34,19, 38, 9]\n",
    "        else: # volatilty target = 15\n",
    "            cat = 'High risk'\n",
    "            sizes = [23,22, 44, 11]\n",
    "    \n",
    "        print(\"score = \" + \"{:.2f}\".format(score) + \": \" + cat)\n",
    "        # Pie chart, where the slices will be ordered and plotted counter-clockwise:\n",
    "        labels = 'BND', 'VEA', 'VTI', 'VWO'\n",
    "        explode = (0, 0, 0, 0)  # only \"explode\" the 2nd slice (i.e. 'Hogs')\n",
    "\n",
    "        fig1, ax1 = plt.subplots()\n",
    "        ax1.pie(sizes, explode=explode, labels=labels, autopct='%1.1f%%',\n",
    "                shadow=True, startangle=90)\n",
    "        ax1.axis('equal')  # Equal aspect ratio ensures that pie is drawn as a circle.\n",
    "\n",
    "        plt.show()\n",
    "        \n",
    "# linking button and function together using a button's method\n",
    "button.on_click(on_button_clicked)\n",
    "# displaying button and its output together\n",
    "widgets.VBox([description0,description1, menu1,description2, menu2, description2_5, description3, menu3,\n",
    "                   description4, menu4,description5, menu5, button, out])"
   ]
  },
  {
   "cell_type": "code",
   "execution_count": null,
   "metadata": {
    "collapsed": true
   },
   "outputs": [],
   "source": []
  }
 ],
 "metadata": {
  "kernelspec": {
   "display_name": "Python 3",
   "language": "python",
   "name": "python3"
  },
  "language_info": {
   "codemirror_mode": {
    "name": "ipython",
    "version": 3
   },
   "file_extension": ".py",
   "mimetype": "text/x-python",
   "name": "python",
   "nbconvert_exporter": "python",
   "pygments_lexer": "ipython3",
   "version": "3.6.1"
  }
 },
 "nbformat": 4,
 "nbformat_minor": 2
}
